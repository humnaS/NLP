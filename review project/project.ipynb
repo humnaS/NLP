{
 "cells": [
  {
   "cell_type": "code",
   "execution_count": 4,
   "metadata": {},
   "outputs": [
    {
     "data": {
      "text/html": [
       "<div>\n",
       "<style scoped>\n",
       "    .dataframe tbody tr th:only-of-type {\n",
       "        vertical-align: middle;\n",
       "    }\n",
       "\n",
       "    .dataframe tbody tr th {\n",
       "        vertical-align: top;\n",
       "    }\n",
       "\n",
       "    .dataframe thead th {\n",
       "        text-align: right;\n",
       "    }\n",
       "</style>\n",
       "<table border=\"1\" class=\"dataframe\">\n",
       "  <thead>\n",
       "    <tr style=\"text-align: right;\">\n",
       "      <th></th>\n",
       "      <th>Review</th>\n",
       "      <th>Liked</th>\n",
       "    </tr>\n",
       "  </thead>\n",
       "  <tbody>\n",
       "    <tr>\n",
       "      <th>0</th>\n",
       "      <td>Wow... Loved this place.</td>\n",
       "      <td>1</td>\n",
       "    </tr>\n",
       "    <tr>\n",
       "      <th>1</th>\n",
       "      <td>Crust is not good.</td>\n",
       "      <td>0</td>\n",
       "    </tr>\n",
       "    <tr>\n",
       "      <th>2</th>\n",
       "      <td>Not tasty and the texture was just nasty.</td>\n",
       "      <td>0</td>\n",
       "    </tr>\n",
       "    <tr>\n",
       "      <th>3</th>\n",
       "      <td>Stopped by during the late May bank holiday of...</td>\n",
       "      <td>1</td>\n",
       "    </tr>\n",
       "    <tr>\n",
       "      <th>4</th>\n",
       "      <td>The selection on the menu was great and so wer...</td>\n",
       "      <td>1</td>\n",
       "    </tr>\n",
       "    <tr>\n",
       "      <th>...</th>\n",
       "      <td>...</td>\n",
       "      <td>...</td>\n",
       "    </tr>\n",
       "    <tr>\n",
       "      <th>995</th>\n",
       "      <td>I think food should have flavor and texture an...</td>\n",
       "      <td>0</td>\n",
       "    </tr>\n",
       "    <tr>\n",
       "      <th>996</th>\n",
       "      <td>Appetite instantly gone.</td>\n",
       "      <td>0</td>\n",
       "    </tr>\n",
       "    <tr>\n",
       "      <th>997</th>\n",
       "      <td>Overall I was not impressed and would not go b...</td>\n",
       "      <td>0</td>\n",
       "    </tr>\n",
       "    <tr>\n",
       "      <th>998</th>\n",
       "      <td>The whole experience was underwhelming, and I ...</td>\n",
       "      <td>0</td>\n",
       "    </tr>\n",
       "    <tr>\n",
       "      <th>999</th>\n",
       "      <td>Then, as if I hadn't wasted enough of my life ...</td>\n",
       "      <td>0</td>\n",
       "    </tr>\n",
       "  </tbody>\n",
       "</table>\n",
       "<p>1000 rows × 2 columns</p>\n",
       "</div>"
      ],
      "text/plain": [
       "                                                Review  Liked\n",
       "0                             Wow... Loved this place.      1\n",
       "1                                   Crust is not good.      0\n",
       "2            Not tasty and the texture was just nasty.      0\n",
       "3    Stopped by during the late May bank holiday of...      1\n",
       "4    The selection on the menu was great and so wer...      1\n",
       "..                                                 ...    ...\n",
       "995  I think food should have flavor and texture an...      0\n",
       "996                           Appetite instantly gone.      0\n",
       "997  Overall I was not impressed and would not go b...      0\n",
       "998  The whole experience was underwhelming, and I ...      0\n",
       "999  Then, as if I hadn't wasted enough of my life ...      0\n",
       "\n",
       "[1000 rows x 2 columns]"
      ]
     },
     "execution_count": 4,
     "metadata": {},
     "output_type": "execute_result"
    }
   ],
   "source": [
    "# Importing Libraries \n",
    "import numpy as np \n",
    "import pandas as pd \n",
    "\n",
    "# Import dataset \n",
    "dataset = pd.read_csv('Restaurant_Reviews.tsv', delimiter = '\\t') \n",
    "\n",
    "dataset"
   ]
  },
  {
   "cell_type": "code",
   "execution_count": 5,
   "metadata": {},
   "outputs": [],
   "source": [
    "#REMOVING PUNCTUATIONS\n",
    "#REMOVING STOPWORDS\n",
    "#STEMMING\n",
    "\n",
    "\n",
    "# library to clean data \n",
    "import re \n",
    "\n",
    "# Natural Language Tool Kit \n",
    "import nltk \n",
    "\n",
    "#nltk.download('stopwords') \n",
    "\n",
    "# to remove stopword \n",
    "from nltk.corpus import stopwords \n",
    "\n",
    "# for Stemming propose \n",
    "from nltk.stem.porter import PorterStemmer \n",
    "\n",
    "# Initialize empty array \n",
    "# to append clean text \n",
    "corpus = [] \n",
    "\n",
    "\n",
    "\n",
    "# 1000 (reviews) rows to clean \n",
    "for i in range(0, 1000): \n",
    "    # column : \"Review\", row ith ()\n",
    "    review = re.sub('[^a-zA-Z]', ' ', dataset['Review'][i]) \n",
    "    \n",
    "    # convert all cases to lower cases\n",
    "    review = review.lower() \n",
    "    \n",
    "    # split to array(default delimiter is \" \") \n",
    "    review = review.split() \n",
    "    \n",
    "    \n",
    "    # creating PorterStemmer object to \n",
    "    # take main stem of each word \n",
    "    ps = PorterStemmer() \n",
    "    \n",
    "    # loop for stemming each word \n",
    "    # in string array at ith row\n",
    "    review = [ps.stem(word) for word in review if not word in set(stopwords.words('english'))] \n",
    "    #print(review)\n",
    "    \n",
    "    # rejoin all string array elements \n",
    "    # to create back into a string \n",
    "    review = ' '.join(review) \n",
    "    #print(review)\n",
    "    \n",
    "    # append each string to create \n",
    "    # array of clean text \n",
    "    corpus.append(review) \n",
    "\n",
    "    \n",
    "#corpus"
   ]
  },
  {
   "cell_type": "code",
   "execution_count": 3,
   "metadata": {},
   "outputs": [
    {
     "name": "stdout",
     "output_type": "stream",
     "text": [
      "['absolut', 'absolutley', 'accid', 'accommod', 'accomod', 'accordingli', 'account', 'acknowledg', 'across', 'actual', 'ad', 'afford', 'afternoon', 'ago', 'ahead', 'airlin', 'airport', 'ala', 'albondiga', 'allergi', 'almond', 'almost', 'also', 'although', 'alway', 'amaz', 'ambianc', 'ambienc', 'amount', 'anoth', 'anyon', 'anyth', 'anytim', 'anyway', 'apolog', 'appet', 'area', 'around', 'arriv', 'articl', 'ask', 'assur', 'ate', 'atmospher', 'atroci', 'attach', 'attack', 'attent', 'attitud', 'auju', 'authent', 'averag', 'avocado', 'avoid', 'aw', 'away', 'awesom', 'awkward', 'awkwardli', 'ayc', 'az', 'baba', 'babi', 'bachi', 'back', 'bacon', 'bad', 'bagel', 'bakeri', 'baklava', 'ball', 'bamboo', 'banana', 'bank', 'bar', 'bare', 'bargain', 'bartend', 'base', 'basebal', 'basic', 'batch', 'bathroom', 'batter', 'bay', 'bbq', 'bean', 'beat', 'beauti', 'becom', 'beef', 'beer', 'behind', 'believ', 'belli', 'best', 'better', 'beyond', 'big', 'bill', 'biscuit', 'bisqu', 'bit', 'bite', 'black', 'bland', 'blow', 'boba', 'boot', 'bother', 'bowl', 'box', 'boy', 'boyfriend', 'bread', 'break', 'breakfast', 'brick', 'bring', 'brought', 'brunch', 'buck', 'buffet', 'bug', 'build', 'bunch', 'burger', 'busi', 'butter', 'bye', 'cafe', 'cake', 'call', 'came', 'camelback', 'cannot', 'cant', 'car', 'care', 'cashier', 'char', 'charcoal', 'charg', 'cheap', 'check', 'chees', 'cheeseburg', 'chef', 'chewi', 'chicken', 'chines', 'chip', 'chipolt', 'chipotl', 'chocol', 'choos', 'choux', 'chow', 'christma', 'cibo', 'circumst', 'claim', 'classic', 'clean', 'close', 'club', 'clue', 'cocktail', 'coconut', 'coffe', 'cold', 'colder', 'colleg', 'color', 'combin', 'combo', 'come', 'comfort', 'common', 'compani', 'companion', 'complain', 'complaint', 'complet', 'compliment', 'con', 'concept', 'concern', 'conclus', 'condiment', 'connisseur', 'connoisseur', 'consid', 'consist', 'construct', 'contain', 'continu', 'conveni', 'cook', 'cool', 'corn', 'corpor', 'correct', 'cost', 'could', 'coupl', 'cours', 'cover', 'cow', 'crab', 'crazi', 'cream', 'creami', 'crispi', 'crowd', 'crust', 'curri', 'custom', 'cut', 'cute', 'damn', 'dark', 'date', 'day', 'deal', 'decent', 'decid', 'decor', 'def', 'defin', 'definit', 'degre', 'del', 'delic', 'delici', 'delicioso', 'delight', 'delish', 'deliv', 'deliveri', 'denni', 'describ', 'descript', 'deserv', 'desir', 'despic', 'despit', 'dessert', 'deuchebaggeri', 'devin', 'die', 'differ', 'dime', 'dine', 'dinner', 'dip', 'dirt', 'dirti', 'disagre', 'disappoint', 'disapppoint', 'disast', 'disbelief', 'discount', 'disgrac', 'disgust', 'dish', 'dispens', 'disrespect', 'divers', 'do', 'dog', 'dollar', 'done', 'dont', 'donut', 'door', 'doubl', 'doubt', 'douchey', 'dough', 'doughi', 'downright', 'downsid', 'downtown', 'drag', 'drastic', 'draw', 'dream', 'drench', 'dress', 'dri', 'driest', 'drink', 'drip', 'drive', 'drop', 'drunk', 'duck', 'dude', 'due', 'duo', 'eat', 'eaten', 'edibl', 'egg', 'eggplant', 'either', 'els', 'elsewher', 'employe', 'empti', 'end', 'enjoy', 'enough', 'entre', 'equal', 'especi', 'establish', 'even', 'event', 'ever', 'everi', 'everyon', 'everyth', 'excel', 'excus', 'expect', 'experi', 'experienc', 'extra', 'extrem', 'eye', 'fact', 'fail', 'fairli', 'famili', 'familiar', 'fan', 'fantast', 'far', 'fare', 'fast', 'favor', 'favorit', 'feel', 'fell', 'felt', 'filet', 'fill', 'final', 'find', 'fine', 'finish', 'first', 'fish', 'flat', 'flavor', 'flavorless', 'fli', 'flower', 'focus', 'folk', 'food', 'found', 'fresh', 'fri', 'friend', 'friendli', 'front', 'frozen', 'full', 'fun', 'garlic', 'gave', 'gener', 'get', 'give', 'given', 'glad', 'go', 'gold', 'gone', 'good', 'got', 'greas', 'great', 'greek', 'green', 'greet', 'grill', 'gross', 'group', 'guess', 'guest', 'guy', 'gyro', 'hair', 'half', 'hand', 'handl', 'happen', 'happi', 'hard', 'hate', 'head', 'healthi', 'heard', 'heart', 'heat', 'help', 'high', 'highli', 'highlight', 'hip', 'hit', 'home', 'homemad', 'honest', 'honestli', 'hope', 'horribl', 'hot', 'hour', 'hous', 'howev', 'huge', 'human', 'hummu', 'husband', 'ice', 'ignor', 'imagin', 'immedi', 'impecc', 'impress', 'includ', 'incred', 'indian', 'inexpens', 'insid', 'insult', 'interest', 'italian', 'job', 'joint', 'joke', 'judg', 'kept', 'kid', 'kind', 'know', 'known', 'lack', 'ladi', 'larg', 'last', 'late', 'later', 'least', 'leav', 'left', 'leg', 'legit', 'let', 'life', 'light', 'like', 'list', 'liter', 'littl', 'live', 'lobster', 'locat', 'long', 'longer', 'look', 'lost', 'lot', 'love', 'lover', 'low', 'lukewarm', 'lunch', 'made', 'main', 'make', 'mall', 'manag', 'mani', 'margarita', 'mari', 'marrow', 'may', 'mayb', 'mayo', 'meal', 'mean', 'meat', 'mediocr', 'meh', 'melt', 'menu', 'mexican', 'mid', 'min', 'mind', 'minut', 'miss', 'mistak', 'mmmm', 'moist', 'mom', 'money', 'mood', 'mouth', 'much', 'multipl', 'mushroom', 'music', 'must', 'nacho', 'nasti', 'need', 'needless', 'neighborhood', 'never', 'new', 'next', 'nice', 'nicest', 'night', 'non', 'none', 'note', 'noth', 'offer', 'oh', 'ok', 'old', 'omg', 'one', 'opportun', 'option', 'order', 'other', 'outsid', 'outstand', 'oven', 'overal', 'overcook', 'overpr', 'overwhelm', 'owner', 'pace', 'pack', 'paid', 'pancak', 'paper', 'par', 'part', 'parti', 'pass', 'pasta', 'patio', 'pay', 'peanut', 'peopl', 'pepper', 'perfect', 'perfectli', 'person', 'pho', 'phoenix', 'pictur', 'piec', 'pita', 'pizza', 'place', 'plate', 'play', 'pleas', 'pleasant', 'plu', 'point', 'poor', 'pop', 'pork', 'portion', 'possibl', 'potato', 'prepar', 'present', 'pretti', 'price', 'probabl', 'profession', 'promis', 'provid', 'pull', 'pure', 'put', 'qualiti', 'quick', 'quickli', 'quit', 'rare', 'rate', 'rather', 'rave', 'read', 'real', 'realiz', 'realli', 'reason', 'receiv', 'recent', 'recommend', 'red', 'refil', 'refrain', 'refresh', 'refri', 'refus', 'regist', 'regular', 'regularli', 'reheat', 'relationship', 'relax', 'relleno', 'reloc', 'rememb', 'remind', 'replenish', 'request', 'reserv', 'rest', 'restaraunt', 'restaur', 'return', 'review', 'revisit', 'rge', 'ri', 'rib', 'ribey', 'rice', 'rich', 'rick', 'ridicul', 'right', 'ring', 'rins', 'rip', 'risotto', 'roast', 'rock', 'roll', 'room', 'rotat', 'round', 'rowdi', 'rubber', 'rude', 'run', 'rush', 'ryan', 'sad', 'sadli', 'saffron', 'saganaki', 'said', 'sal', 'salad', 'salmon', 'salsa', 'salt', 'salti', 'sampl', 'san', 'sandwich', 'sangria', 'sashimi', 'sat', 'satifi', 'satisfi', 'sauc', 'saus', 'save', 'say', 'scallop', 'scene', 'scottsdal', 'scream', 'screw', 'seafood', 'seal', 'season', 'seat', 'second', 'section', 'see', 'seem', 'seen', 'select', 'self', 'send', 'sens', 'sergeant', 'serious', 'serivc', 'serv', 'server', 'servic', 'set', 'sever', 'sewer', 'sexi', 'shall', 'sharpli', 'shawarrrrrrma', 'shirt', 'shock', 'shoe', 'shoot', 'shop', 'short', 'shot', 'show', 'shower', 'shrimp', 'sick', 'side', 'sign', 'silent', 'similar', 'similarli', 'simpl', 'simpli', 'sinc', 'singl', 'sit', 'six', 'skimp', 'slaw', 'slice', 'slow', 'small', 'smaller', 'smashburg', 'smear', 'smell', 'smoke', 'smooth', 'smoothi', 'soggi', 'soi', 'solid', 'solidifi', 'somehow', 'someon', 'someth', 'somethat', 'somewhat', 'son', 'song', 'soon', 'soooo', 'sooooo', 'soooooo', 'sore', 'sorri', 'sound', 'soundtrack', 'soup', 'sour', 'southwest', 'space', 'spaghetti', 'special', 'speedi', 'spend', 'spice', 'spici', 'spicier', 'spinach', 'sport', 'spot', 'spotti', 'spring', 'sprout', 'staff', 'stale', 'standard', 'star', 'start', 'starv', 'station', 'stay', 'steak', 'steakhous', 'steiner', 'step', 'steve', 'stick', 'still', 'stink', 'stir', 'stomach', 'stood', 'stop', 'store', 'strang', 'stranger', 'strawberri', 'street', 'stretch', 'strike', 'string', 'strip', 'struck', 'stuf', 'stuff', 'style', 'sub', 'subway', 'suck', 'sugari', 'suggest', 'summar', 'summer', 'super', 'sure', 'surpris', 'sushi', 'sweet', 'tabl', 'taco', 'take', 'talk', 'tap', 'tapa', 'tartar', 'tast', 'tasteless', 'tasti', 'tea', 'tell', 'ten', 'tender', 'terribl', 'textur', 'thai', 'thin', 'thing', 'think', 'third', 'though', 'thought', 'three', 'thumb', 'time', 'tip', 'toast', 'today', 'told', 'took', 'top', 'tot', 'total', 'touch', 'toward', 'town', 'treat', 'tri', 'tribut', 'trip', 'tuna', 'twice', 'two', 'unbeliev', 'undercook', 'underwhelm', 'unfortun', 'unhealthi', 'uninspir', 'uniqu', 'unless', 'unprofession', 'unreal', 'unsatisfi', 'untoast', 'unwelcom', 'unwrap', 'updat', 'upgrad', 'upload', 'us', 'use', 'usual', 'vacant', 'vain', 'valley', 'valu', 'vanilla', 'veal', 'vega', 'vegan', 'veget', 'vegetarian', 'veggi', 'veggitarian', 'velvet', 'ventil', 'ventur', 'venu', 'verg', 'version', 'via', 'vibe', 'vinaigrett', 'vinegrett', 'violinist', 'visit', 'vodka', 'vomit', 'voodoo', 'vote', 'waaaaaayyyyyyyyyi', 'wagyu', 'wait', 'waiter', 'waitress', 'walk', 'wall', 'want', 'warm', 'warmer', 'warn', 'wash', 'wast', 'watch', 'water', 'wave', 'way', 'wayyy', 'weak', 'websit', 'wedg', 'week', 'weekend', 'weekli', 'weird', 'well', 'went', 'whatsoev', 'whelm', 'whenev', 'whether', 'white', 'whole', 'wife', 'wine', 'wing', 'winner', 'wire', 'wish', 'wit', 'without', 'wonder', 'wonton', 'word', 'work', 'worker', 'world', 'worri', 'wors', 'worst', 'worth', 'would', 'wound', 'wow', 'wrap', 'write', 'wrong', 'ya', 'yama', 'yay', 'yeah', 'year', 'yellow', 'yellowtail', 'yelper', 'yet', 'yucki', 'yukon', 'yum', 'yummi', 'zero']\n"
     ]
    }
   ],
   "source": [
    "# Creating the Bag of Words model \n",
    "from sklearn.feature_extraction.text import CountVectorizer \n",
    "\n",
    "# To extract max 1500 feature. \n",
    "# \"max_features\" is attribute to \n",
    "# experiment with to get better results \n",
    "cv = CountVectorizer(max_features=1000) \n",
    "\n",
    "# X contains corpus (dependent variable) \n",
    "\n",
    "cv.fit(corpus)\n",
    "\n",
    "X = cv.transform(corpus)\n",
    "\n",
    "print(cv.get_feature_names())"
   ]
  },
  {
   "cell_type": "code",
   "execution_count": 148,
   "metadata": {},
   "outputs": [
    {
     "name": "stdout",
     "output_type": "stream",
     "text": [
      "[[0 0 0 ... 0 0 0]\n",
      " [0 0 0 ... 0 0 0]\n",
      " [0 0 0 ... 0 0 0]\n",
      " ...\n",
      " [0 0 0 ... 0 0 0]\n",
      " [0 0 0 ... 0 0 0]\n",
      " [0 0 0 ... 0 0 0]]\n",
      "[1 0 0 1 1 0 0 0 1 1 1 0 0 1 0 0 1 0 0 0 0 1 1 1 1 1 0 1 0 0 1 0 1 0 1 1 1\n",
      " 0 1 0 1 0 0 1 0 1 0 1 1 1 1 1 1 0 1 1 0 0 1 0 0 1 1 1 1 1 1 1 0 1 1 1 0 0\n",
      " 0 0 0 1 1 0 0 0 0 1 0 1 0 1 1 1 0 1 0 1 0 0 1 1 0 1 1 1 1 1 1 1 1 1 1 1 0\n",
      " 0 1 1 1 1 0 0 0 0 0 0 1 1 1 0 0 1 0 1 0 1 1 0 1 1 1 1 0 1 0 0 0 0 1 1 0 0\n",
      " 0 0 1 1 0 0 1 1 1 1 1 0 0 1 1 0 1 1 1 0 0 1 0 1 1 1 1 0 0 1 1 0 0 0 0 0 1\n",
      " 1 0 1 1 1 1 1 0 1 0 1 0 0 1 1 1 1 0 1 1 1 0 0 0 1 0 0 1 0 1 1 0 1 0 1 0 0\n",
      " 0 0 0 1 1 1 0 1 1 0 1 0 1 0 0 1 0 1 0 1 0 0 0 0 1 1 1 0 1 0 1 0 1 1 1 0 1\n",
      " 0 1 0 1 1 1 1 0 1 1 0 1 1 1 1 1 0 1 1 0 0 1 0 0 0 1 1 0 0 1 0 0 0 1 0 1 1\n",
      " 0 1 0 1 1 0 0 0 1 0 0 0 1 1 1 0 1 0 1 0 0 1 1 1 0 0 1 1 1 1 1 1 0 0 0 1 1\n",
      " 0 1 1 0 0 1 0 0 1 1 1 0 1 1 1 1 1 0 0 1 0 1 1 0 1 1 1 0 1 1 0 1 0 0 1 1 1\n",
      " 0 0 1 1 0 1 0 1 0 0 0 1 1 0 0 0 1 0 0 1 1 1 1 1 1 1 0 1 1 1 0 0 0 1 1 0 1\n",
      " 1 1 0 1 1 0 1 0 0 0 1 1 1 1 0 0 0 0 1 1 0 0 1 0 1 1 0 1 0 1 1 1 1 0 1 1 0\n",
      " 1 1 0 0 1 1 0 1 0 0 0 0 1 1 1 1 0 1 1 0 1 1 0 0 1 1 1 0 1 0 0 0 1 1 1 1 0\n",
      " 1 0 0 1 1 1 0 0 1 1 1 0 1 1 0 1 1 1 1 1 0 1 1 1 0 0 0 0 0 1 1 1 1 1 1 0 1\n",
      " 0 1 1 1 0 0 1 0 0 1 1 1 1 1 1 1 0 1 0 1 0 1 1 0 1 0 0 1 1 0 0 1 1 1 1 0 0\n",
      " 0 0 0 1 1 0 0 1 1 1 0 0 1 0 0 0 0 0 1 1 0 0 1 1 1 0 0 0 1 0 1 1 0 1 0 1 1\n",
      " 1 0 0 1 0 1 1 0 1 0 1 1 1 1 1 0 1 0 0 0 0 0 1 1 0 0 1 0 0 0 1 0 1 1 0 0 0\n",
      " 1 1 1 0 1 0 1 0 1 0 1 1 0 1 0 0 0 0 0 1 0 0 1 1 0 1 0 1 1 1 1 1 1 1 1 1 1\n",
      " 1 1 1 0 0 1 0 1 1 1 1 0 1 0 1 0 1 1 1 0 1 1 1 1 1 0 1 1 1 0 0 0 0 0 0 0 1\n",
      " 1 1 0 1 0 1 0 1 0 1 0 1 1 1 0 1 0 1 1 1 1 1 1 1 0 1 1 0 0 1 1 1 0 0 1 1 1\n",
      " 1 0 0 0 0 1 1 1 0 1 1 1 1 1 0 1 0 1 1 0 1 0 0 0 1 0 1 1 1 1 0 1 0 0 1 0 1\n",
      " 0 0 0 1 1 1 0 0 1 0 1 1 1 1 0 0 1 0 1 1 1 0 1 0 1 0 1 1 0 1 0 1 1 0 0 0 0\n",
      " 1 1 0 1 0 0 0 0 1 1 0 0 0 0 0 0 0 0 0 1 1 0 1 0 0 1 0 1 1 0 0 0 0 1 0 0 1\n",
      " 0 1 1 0 0 1 1 0 0 1 1 0 1 1 1 1 1 1 0 0 0 1 1 0 0 0 1 1 0 0 0 1 0 0 0 0 0\n",
      " 1 0 1 1 0 0 1 1 1 1 0 1 0 1 0 0 0 0 0 1 0 1 0 0 0 0 0 0 0 0 0 0 0 0 1 0 0\n",
      " 0 0 0 0 0 0 0 0 0 0 0 0 0 0 0 0 0 0 0 0 0 0 0 0 0 0 0 0 0 0 0 0 0 0 0 0 0\n",
      " 0 0 0 0 0 0 0 0 0 0 0 0 0 0 0 0 0 0 0 0 0 0 0 0 0 0 0 0 0 0 0 0 0 0 0 0 0\n",
      " 0]\n"
     ]
    }
   ],
   "source": [
    "X=X.toarray() \n",
    "\n",
    "print(X)\n",
    "\n",
    "# y contains answers if review \n",
    "# is positive or negative \n",
    "\n",
    "y = dataset.iloc[:, 1].values \n",
    "\n",
    "print(y)"
   ]
  },
  {
   "cell_type": "code",
   "execution_count": 149,
   "metadata": {},
   "outputs": [],
   "source": [
    "# Splitting the dataset into \n",
    "# the Training set and Test set \n",
    "#from sklearn.cross_validation import train_test_split \n",
    "from sklearn.model_selection import train_test_split\n",
    "\n",
    "# experiment with \"test_size\" \n",
    "# to get better results \n",
    "X_train, X_test, y_train, y_test = train_test_split(X, y, test_size = 0.25) \n"
   ]
  },
  {
   "cell_type": "code",
   "execution_count": 150,
   "metadata": {},
   "outputs": [
    {
     "data": {
      "text/plain": [
       "RandomForestClassifier(bootstrap=True, class_weight=None, criterion='entropy',\n",
       "                       max_depth=None, max_features='auto', max_leaf_nodes=None,\n",
       "                       min_impurity_decrease=0.0, min_impurity_split=None,\n",
       "                       min_samples_leaf=1, min_samples_split=2,\n",
       "                       min_weight_fraction_leaf=0.0, n_estimators=501,\n",
       "                       n_jobs=None, oob_score=False, random_state=None,\n",
       "                       verbose=0, warm_start=False)"
      ]
     },
     "execution_count": 150,
     "metadata": {},
     "output_type": "execute_result"
    }
   ],
   "source": [
    "# Fitting Random Forest Classification \n",
    "# to the Training set \n",
    "from sklearn.ensemble import RandomForestClassifier \n",
    "\n",
    "# n_estimators can be said as number of \n",
    "# trees, experiment with n_estimators \n",
    "# to get better results \n",
    "model1 = RandomForestClassifier(n_estimators = 501, \n",
    "\t\t\t\t\t\t\tcriterion = 'entropy') \n",
    "\t\t\t\t\t\t\t\n",
    "model1.fit(X_train, y_train) \n"
   ]
  },
  {
   "cell_type": "code",
   "execution_count": 151,
   "metadata": {},
   "outputs": [],
   "source": [
    "# Predicting the Test set results\n",
    "#RANDOM FOREST\n",
    "y_pred1 = model1.predict(X_test) \n",
    "#y_pred1 \n"
   ]
  },
  {
   "cell_type": "code",
   "execution_count": 152,
   "metadata": {},
   "outputs": [
    {
     "data": {
      "text/plain": [
       "0.748"
      ]
     },
     "execution_count": 152,
     "metadata": {},
     "output_type": "execute_result"
    }
   ],
   "source": [
    "from sklearn.metrics import accuracy_score \n",
    "accuracy1=accuracy_score(y_test, y_pred1)\n",
    "accuracy1"
   ]
  },
  {
   "cell_type": "code",
   "execution_count": 153,
   "metadata": {},
   "outputs": [
    {
     "data": {
      "text/plain": [
       "array([[105,  23],\n",
       "       [ 40,  82]], dtype=int64)"
      ]
     },
     "execution_count": 153,
     "metadata": {},
     "output_type": "execute_result"
    }
   ],
   "source": [
    "# Making the Confusion Matrix of RANDOM FOREST\n",
    "from sklearn.metrics import confusion_matrix \n",
    "\n",
    "cm1 = confusion_matrix(y_test, y_pred1) \n",
    "cm1    \n",
    "\n",
    "#    P   P\n",
    "#A   tp fn\n",
    "#A   fp tn\n"
   ]
  },
  {
   "cell_type": "code",
   "execution_count": 154,
   "metadata": {},
   "outputs": [
    {
     "name": "stdout",
     "output_type": "stream",
     "text": [
      "              precision    recall  f1-score   support\n",
      "\n",
      "           0       0.72      0.82      0.77       128\n",
      "           1       0.78      0.67      0.72       122\n",
      "\n",
      "    accuracy                           0.75       250\n",
      "   macro avg       0.75      0.75      0.75       250\n",
      "weighted avg       0.75      0.75      0.75       250\n",
      "\n"
     ]
    }
   ],
   "source": [
    "#RANDOM FOREST ACCURACY\n",
    "from sklearn.metrics import classification_report\n",
    "print(classification_report(y_test, y_pred1))"
   ]
  },
  {
   "cell_type": "code",
   "execution_count": 155,
   "metadata": {},
   "outputs": [],
   "source": [
    "#NAIVE BAYES CLASSIFIER\n",
    "from sklearn.naive_bayes import MultinomialNB\n",
    "\n",
    "model2 = MultinomialNB().fit(X_train, y_train)\n",
    "\n",
    "y_pred2 = model2.predict(X_test)\n",
    "\n",
    "#y_pred2"
   ]
  },
  {
   "cell_type": "code",
   "execution_count": 156,
   "metadata": {},
   "outputs": [
    {
     "data": {
      "text/plain": [
       "array([[105,  23],\n",
       "       [ 30,  92]], dtype=int64)"
      ]
     },
     "execution_count": 156,
     "metadata": {},
     "output_type": "execute_result"
    }
   ],
   "source": [
    "# Making the Confusion Matrix of NAIVE BAYES\n",
    "from sklearn.metrics import confusion_matrix \n",
    "\n",
    "cm2 = confusion_matrix(y_test, y_pred2) \n",
    "cm2    \n"
   ]
  },
  {
   "cell_type": "code",
   "execution_count": 157,
   "metadata": {},
   "outputs": [
    {
     "name": "stdout",
     "output_type": "stream",
     "text": [
      "              precision    recall  f1-score   support\n",
      "\n",
      "           0       0.78      0.82      0.80       128\n",
      "           1       0.80      0.75      0.78       122\n",
      "\n",
      "    accuracy                           0.79       250\n",
      "   macro avg       0.79      0.79      0.79       250\n",
      "weighted avg       0.79      0.79      0.79       250\n",
      "\n"
     ]
    }
   ],
   "source": [
    "#NAIVE BAYES ACCURACY\n",
    "from sklearn.metrics import classification_report\n",
    "print(classification_report(y_test, y_pred2))"
   ]
  },
  {
   "cell_type": "code",
   "execution_count": 158,
   "metadata": {},
   "outputs": [
    {
     "data": {
      "text/plain": [
       "0.788"
      ]
     },
     "execution_count": 158,
     "metadata": {},
     "output_type": "execute_result"
    }
   ],
   "source": [
    "from sklearn.metrics import accuracy_score \n",
    "accuracy2=accuracy_score(y_test, y_pred2)\n",
    "accuracy2"
   ]
  },
  {
   "cell_type": "code",
   "execution_count": 159,
   "metadata": {},
   "outputs": [],
   "source": [
    "#SVM\n",
    "from sklearn.svm import LinearSVC\n",
    "\n",
    "model3 = LinearSVC()\n",
    "model3.fit(X_train, y_train)\n",
    "y_pred3 = model3.predict(X_test)\n",
    "\n",
    "#y_pred3"
   ]
  },
  {
   "cell_type": "code",
   "execution_count": 160,
   "metadata": {},
   "outputs": [
    {
     "data": {
      "text/plain": [
       "array([[104,  24],\n",
       "       [ 33,  89]], dtype=int64)"
      ]
     },
     "execution_count": 160,
     "metadata": {},
     "output_type": "execute_result"
    }
   ],
   "source": [
    "# Making the Confusion Matrix of SVM\n",
    "from sklearn.metrics import confusion_matrix \n",
    "\n",
    "cm3 = confusion_matrix(y_test, y_pred3) \n",
    "cm3    \n"
   ]
  },
  {
   "cell_type": "code",
   "execution_count": 161,
   "metadata": {},
   "outputs": [
    {
     "name": "stdout",
     "output_type": "stream",
     "text": [
      "              precision    recall  f1-score   support\n",
      "\n",
      "           0       0.76      0.81      0.78       128\n",
      "           1       0.79      0.73      0.76       122\n",
      "\n",
      "    accuracy                           0.77       250\n",
      "   macro avg       0.77      0.77      0.77       250\n",
      "weighted avg       0.77      0.77      0.77       250\n",
      "\n"
     ]
    }
   ],
   "source": [
    "#SVM ACCURACY\n",
    "from sklearn.metrics import classification_report\n",
    "print(classification_report(y_test, y_pred3))"
   ]
  },
  {
   "cell_type": "code",
   "execution_count": 162,
   "metadata": {},
   "outputs": [
    {
     "data": {
      "text/plain": [
       "0.772"
      ]
     },
     "execution_count": 162,
     "metadata": {},
     "output_type": "execute_result"
    }
   ],
   "source": [
    "from sklearn.metrics import accuracy_score \n",
    "accuracy3=accuracy_score(y_test, y_pred3)\n",
    "accuracy3"
   ]
  },
  {
   "cell_type": "code",
   "execution_count": 163,
   "metadata": {},
   "outputs": [
    {
     "name": "stderr",
     "output_type": "stream",
     "text": [
      "C:\\Users\\fizas\\Anaconda3\\lib\\site-packages\\sklearn\\linear_model\\logistic.py:432: FutureWarning: Default solver will be changed to 'lbfgs' in 0.22. Specify a solver to silence this warning.\n",
      "  FutureWarning)\n"
     ]
    }
   ],
   "source": [
    "#LR\n",
    "from sklearn.linear_model import LogisticRegression\n",
    "model4= LogisticRegression()\n",
    "model4.fit(X_train, y_train)\n",
    "\n",
    "y_pred4 = model4.predict(X_test)\n",
    "\n",
    "#y_pred4"
   ]
  },
  {
   "cell_type": "code",
   "execution_count": 164,
   "metadata": {},
   "outputs": [
    {
     "data": {
      "text/plain": [
       "array([[106,  22],\n",
       "       [ 35,  87]], dtype=int64)"
      ]
     },
     "execution_count": 164,
     "metadata": {},
     "output_type": "execute_result"
    }
   ],
   "source": [
    "#LR Confusion matrix\n",
    "from sklearn.metrics import confusion_matrix \n",
    "\n",
    "cm4 = confusion_matrix(y_test, y_pred4) \n",
    "cm4    \n"
   ]
  },
  {
   "cell_type": "code",
   "execution_count": 165,
   "metadata": {},
   "outputs": [
    {
     "name": "stdout",
     "output_type": "stream",
     "text": [
      "              precision    recall  f1-score   support\n",
      "\n",
      "           0       0.75      0.83      0.79       128\n",
      "           1       0.80      0.71      0.75       122\n",
      "\n",
      "    accuracy                           0.77       250\n",
      "   macro avg       0.77      0.77      0.77       250\n",
      "weighted avg       0.77      0.77      0.77       250\n",
      "\n"
     ]
    }
   ],
   "source": [
    "#LR Classification report\n",
    "from sklearn.metrics import classification_report\n",
    "print(classification_report(y_test, y_pred4))"
   ]
  },
  {
   "cell_type": "code",
   "execution_count": 166,
   "metadata": {},
   "outputs": [
    {
     "data": {
      "text/plain": [
       "0.772"
      ]
     },
     "execution_count": 166,
     "metadata": {},
     "output_type": "execute_result"
    }
   ],
   "source": [
    "from sklearn.metrics import accuracy_score \n",
    "accuracy4=accuracy_score(y_test, y_pred4)\n",
    "accuracy4"
   ]
  },
  {
   "cell_type": "code",
   "execution_count": 167,
   "metadata": {},
   "outputs": [],
   "source": [
    "# decision tree\n",
    "from sklearn import tree\n",
    "model5 = tree.DecisionTreeClassifier()\n",
    "model5.fit(X_train, y_train)\n",
    "y_pred5= model5.predict(X_test)"
   ]
  },
  {
   "cell_type": "code",
   "execution_count": 168,
   "metadata": {},
   "outputs": [
    {
     "data": {
      "text/plain": [
       "array([[97, 31],\n",
       "       [46, 76]], dtype=int64)"
      ]
     },
     "execution_count": 168,
     "metadata": {},
     "output_type": "execute_result"
    }
   ],
   "source": [
    "#DT Confusion matrix\n",
    "from sklearn.metrics import confusion_matrix \n",
    "\n",
    "cm5 = confusion_matrix(y_test, y_pred5) \n",
    "cm5"
   ]
  },
  {
   "cell_type": "code",
   "execution_count": 169,
   "metadata": {},
   "outputs": [
    {
     "name": "stdout",
     "output_type": "stream",
     "text": [
      "              precision    recall  f1-score   support\n",
      "\n",
      "           0       0.68      0.76      0.72       128\n",
      "           1       0.71      0.62      0.66       122\n",
      "\n",
      "    accuracy                           0.69       250\n",
      "   macro avg       0.69      0.69      0.69       250\n",
      "weighted avg       0.69      0.69      0.69       250\n",
      "\n"
     ]
    }
   ],
   "source": [
    "#DT Classification report\n",
    "from sklearn.metrics import classification_report\n",
    "print(classification_report(y_test, y_pred5))"
   ]
  },
  {
   "cell_type": "code",
   "execution_count": 170,
   "metadata": {},
   "outputs": [
    {
     "data": {
      "text/plain": [
       "0.692"
      ]
     },
     "execution_count": 170,
     "metadata": {},
     "output_type": "execute_result"
    }
   ],
   "source": [
    "from sklearn.metrics import accuracy_score \n",
    "accuracy5=accuracy_score(y_test, y_pred5)\n",
    "accuracy5"
   ]
  },
  {
   "cell_type": "code",
   "execution_count": 171,
   "metadata": {},
   "outputs": [
    {
     "data": {
      "image/png": "[encoded data removed]",
      "text/plain": [
       "<Figure size 504x432 with 1 Axes>"
      ]
     },
     "metadata": {
      "needs_background": "light"
     },
     "output_type": "display_data"
    }
   ],
   "source": [
    "# ROC Curve\n",
    "\n",
    "\n",
    "import matplotlib.pyplot as plt\n",
    "from sklearn.metrics import roc_curve, roc_auc_score\n",
    "\n",
    "fpr1, tpr1, _ = roc_curve(y_test,  y_pred1)\n",
    "auc1 = roc_auc_score(y_test, y_pred1)\n",
    "\n",
    "plt.figure(figsize=(7, 6))\n",
    "plt.plot(fpr1, tpr1, color='blue',\n",
    "label='Random Forest (AUC = %0.4f)' % auc1)\n",
    "plt.legend(loc='lower right')\n",
    "\n",
    "fpr2, tpr2, _ = roc_curve(y_test,  y_pred2)\n",
    "auc2 = roc_auc_score(y_test, y_pred2)\n",
    "plt.plot(fpr2, tpr2, color='green',\n",
    "label='Naive bayes (AUC = %0.4f)' % auc2)\n",
    "plt.legend(loc='lower right')\n",
    "\n",
    "fpr3, tpr3, _ = roc_curve(y_test,  y_pred3)\n",
    "auc3 = roc_auc_score(y_test, y_pred3)\n",
    "plt.plot(fpr3, tpr3, color='red',\n",
    "label='SVM (AUC = %0.4f)' % auc3)\n",
    "plt.legend(loc='lower right')\n",
    "\n",
    "fpr4, tpr4, _ = roc_curve(y_test,  y_pred4)\n",
    "auc4 = roc_auc_score(y_test, y_pred4)\n",
    "plt.plot(fpr4, tpr4, color='yellow',\n",
    "label='Logistic Regression (AUC = %0.4f)' % auc4)\n",
    "plt.legend(loc='lower right')\n",
    "\n",
    "fpr5, tpr5, _ = roc_curve(y_test,  y_pred5)\n",
    "auc5 = roc_auc_score(y_test, y_pred5)\n",
    "plt.plot(fpr5, tpr5, color='black',\n",
    "label='Decision Tree (AUC = %0.4f)' % auc5)\n",
    "plt.legend(loc='lower right')\n",
    "\n",
    "plt.plot([0,1], [0,1], color='orange', linestyle='--')\n",
    "\n",
    "\n",
    "\n",
    "plt.title(\"ROC Curve\")\n",
    "plt.xlabel(\"FPR\")\n",
    "plt.ylabel(\"TPR\")\n",
    "plt.show()"
   ]
  },
  {
   "cell_type": "code",
   "execution_count": 206,
   "metadata": {},
   "outputs": [],
   "source": [
    "# library to clean data \n",
    "import re \n",
    "\n",
    "# Creating the Bag of Words model \n",
    "from sklearn.feature_extraction.text import CountVectorizer \n",
    "\n",
    "\n",
    "# Natural Language Tool Kit \n",
    "import nltk \n",
    "\n",
    "#nltk.download('stopwords') \n",
    "\n",
    "# to remove stopword \n",
    "from nltk.corpus import stopwords \n",
    "\n",
    "# for Stemming propose \n",
    "from nltk.stem.porter import PorterStemmer \n",
    "\n",
    "# Initialize empty array \n",
    "# to append clean text \n",
    "Textcorpus = []\n",
    "\n",
    "def funcTest(text):\n",
    "    text= re.sub('[^a-zA-Z]', ' ',text) \n",
    "    \n",
    "    # convert all cases to lower cases\n",
    "    text = text.lower() \n",
    "    \n",
    "    # split to array(default delimiter is \" \") \n",
    "    text = text.split() \n",
    "    \n",
    "    \n",
    "    # creating PorterStemmer object to \n",
    "    # take main stem of each word \n",
    "    ps = PorterStemmer() \n",
    "    \n",
    "    # loop for stemming each word \n",
    "    # in string array at ith row\n",
    "    text = [ps.stem(word) for word in text if not word in set(stopwords.words('english'))] \n",
    "    #print(review)\n",
    "    \n",
    "    # rejoin all string array elements \n",
    "    # to create back into a string \n",
    "    text = ' '.join(text) \n",
    "    #print(review)\n",
    "    \n",
    "    # append each string to create \n",
    "    # array of clean text \n",
    "    Textcorpus.append(text) \n",
    "\n",
    "    cv = CountVectorizer(max_features=1000) \n",
    "    # X contains corpus (dependent variable) \n",
    "    cv.fit(Textcorpus)\n",
    "    \n",
    "    list3=[]\n",
    "    TestText = cv.transform(Textcorpus)\n",
    "    list3=cv.get_feature_names()\n",
    "    \n",
    "    TestText=TestText.toarray() \n",
    "    \n",
    "    return list3\n"
   ]
  },
  {
   "cell_type": "code",
   "execution_count": 207,
   "metadata": {},
   "outputs": [
    {
     "name": "stdout",
     "output_type": "stream",
     "text": [
      "absolut\n"
     ]
    }
   ],
   "source": [
    "print(cv.get_feature_names()[0])"
   ]
  },
  {
   "cell_type": "code",
   "execution_count": 208,
   "metadata": {},
   "outputs": [],
   "source": [
    "import numpy as np\n",
    "list1=[]\n",
    "for n in range(1000):\n",
    "    temp=cv.get_feature_names()[n]\n",
    "    list1.append(temp)\n",
    "    \n",
    "array1=np.array(list1)\n"
   ]
  },
  {
   "cell_type": "code",
   "execution_count": 209,
   "metadata": {},
   "outputs": [
    {
     "name": "stdout",
     "output_type": "stream",
     "text": [
      "['bad', 'experi', 'tast', 'worst']\n"
     ]
    }
   ],
   "source": [
    "t1=funcTest('worst experience, bad taste')\n",
    "#t1=funcTest('I really liked the food, amazing taste')\n",
    "\n",
    "print(t1)"
   ]
  },
  {
   "cell_type": "code",
   "execution_count": 210,
   "metadata": {},
   "outputs": [
    {
     "data": {
      "text/html": [
       "<div>\n",
       "<style scoped>\n",
       "    .dataframe tbody tr th:only-of-type {\n",
       "        vertical-align: middle;\n",
       "    }\n",
       "\n",
       "    .dataframe tbody tr th {\n",
       "        vertical-align: top;\n",
       "    }\n",
       "\n",
       "    .dataframe thead th {\n",
       "        text-align: right;\n",
       "    }\n",
       "</style>\n",
       "<table border=\"1\" class=\"dataframe\">\n",
       "  <thead>\n",
       "    <tr style=\"text-align: right;\">\n",
       "      <th></th>\n",
       "      <th>absolut</th>\n",
       "      <th>absolutley</th>\n",
       "      <th>accid</th>\n",
       "      <th>accommod</th>\n",
       "      <th>accomod</th>\n",
       "      <th>accordingli</th>\n",
       "      <th>account</th>\n",
       "      <th>acknowledg</th>\n",
       "      <th>across</th>\n",
       "      <th>actual</th>\n",
       "      <th>...</th>\n",
       "      <th>year</th>\n",
       "      <th>yellow</th>\n",
       "      <th>yellowtail</th>\n",
       "      <th>yelper</th>\n",
       "      <th>yet</th>\n",
       "      <th>yucki</th>\n",
       "      <th>yukon</th>\n",
       "      <th>yum</th>\n",
       "      <th>yummi</th>\n",
       "      <th>zero</th>\n",
       "    </tr>\n",
       "  </thead>\n",
       "  <tbody>\n",
       "  </tbody>\n",
       "</table>\n",
       "<p>0 rows × 1000 columns</p>\n",
       "</div>"
      ],
      "text/plain": [
       "Empty DataFrame\n",
       "Columns: [absolut, absolutley, accid, accommod, accomod, accordingli, account, acknowledg, across, actual, ad, afford, afternoon, ago, ahead, airlin, airport, ala, albondiga, allergi, almond, almost, also, although, alway, amaz, ambianc, ambienc, amount, anoth, anyon, anyth, anytim, anyway, apolog, appet, area, around, arriv, articl, ask, assur, ate, atmospher, atroci, attach, attack, attent, attitud, auju, authent, averag, avocado, avoid, aw, away, awesom, awkward, awkwardli, ayc, az, baba, babi, bachi, back, bacon, bad, bagel, bakeri, baklava, ball, bamboo, banana, bank, bar, bare, bargain, bartend, base, basebal, basic, batch, bathroom, batter, bay, bbq, bean, beat, beauti, becom, beef, beer, behind, believ, belli, best, better, beyond, big, bill, ...]\n",
       "Index: []\n",
       "\n",
       "[0 rows x 1000 columns]"
      ]
     },
     "execution_count": 210,
     "metadata": {},
     "output_type": "execute_result"
    }
   ],
   "source": [
    "import pandas as pd\n",
    "df=pd.DataFrame(columns=array1)\n",
    "df.head()"
   ]
  },
  {
   "cell_type": "code",
   "execution_count": 211,
   "metadata": {},
   "outputs": [
    {
     "data": {
      "text/plain": [
       "['bad', 'experi', 'tast', 'worst']"
      ]
     },
     "execution_count": 211,
     "metadata": {},
     "output_type": "execute_result"
    }
   ],
   "source": [
    "list2=[]\n",
    "list2=t1\n",
    "list2"
   ]
  },
  {
   "cell_type": "code",
   "execution_count": 212,
   "metadata": {},
   "outputs": [
    {
     "data": {
      "text/plain": [
       "1000"
      ]
     },
     "execution_count": 212,
     "metadata": {},
     "output_type": "execute_result"
    }
   ],
   "source": [
    "len(array1)"
   ]
  },
  {
   "cell_type": "code",
   "execution_count": 213,
   "metadata": {},
   "outputs": [],
   "source": [
    "for index in range(len(array1)):\n",
    "    if df.columns[index] in list2:\n",
    "        df.loc[0,df.columns[index]]=1\n",
    "    else:\n",
    "        df.loc[0,df.columns[index]]=0"
   ]
  },
  {
   "cell_type": "code",
   "execution_count": 214,
   "metadata": {},
   "outputs": [
    {
     "data": {
      "text/html": [
       "<div>\n",
       "<style scoped>\n",
       "    .dataframe tbody tr th:only-of-type {\n",
       "        vertical-align: middle;\n",
       "    }\n",
       "\n",
       "    .dataframe tbody tr th {\n",
       "        vertical-align: top;\n",
       "    }\n",
       "\n",
       "    .dataframe thead th {\n",
       "        text-align: right;\n",
       "    }\n",
       "</style>\n",
       "<table border=\"1\" class=\"dataframe\">\n",
       "  <thead>\n",
       "    <tr style=\"text-align: right;\">\n",
       "      <th></th>\n",
       "      <th>absolut</th>\n",
       "      <th>absolutley</th>\n",
       "      <th>accid</th>\n",
       "      <th>accommod</th>\n",
       "      <th>accomod</th>\n",
       "      <th>accordingli</th>\n",
       "      <th>account</th>\n",
       "      <th>acknowledg</th>\n",
       "      <th>across</th>\n",
       "      <th>actual</th>\n",
       "      <th>...</th>\n",
       "      <th>year</th>\n",
       "      <th>yellow</th>\n",
       "      <th>yellowtail</th>\n",
       "      <th>yelper</th>\n",
       "      <th>yet</th>\n",
       "      <th>yucki</th>\n",
       "      <th>yukon</th>\n",
       "      <th>yum</th>\n",
       "      <th>yummi</th>\n",
       "      <th>zero</th>\n",
       "    </tr>\n",
       "  </thead>\n",
       "  <tbody>\n",
       "    <tr>\n",
       "      <td>0</td>\n",
       "      <td>0</td>\n",
       "      <td>0</td>\n",
       "      <td>0</td>\n",
       "      <td>0</td>\n",
       "      <td>0</td>\n",
       "      <td>0</td>\n",
       "      <td>0</td>\n",
       "      <td>0</td>\n",
       "      <td>0</td>\n",
       "      <td>0</td>\n",
       "      <td>...</td>\n",
       "      <td>0</td>\n",
       "      <td>0</td>\n",
       "      <td>0</td>\n",
       "      <td>0</td>\n",
       "      <td>0</td>\n",
       "      <td>0</td>\n",
       "      <td>0</td>\n",
       "      <td>0</td>\n",
       "      <td>0</td>\n",
       "      <td>0</td>\n",
       "    </tr>\n",
       "  </tbody>\n",
       "</table>\n",
       "<p>1 rows × 1000 columns</p>\n",
       "</div>"
      ],
      "text/plain": [
       "   absolut  absolutley  accid  accommod  accomod  accordingli  account  \\\n",
       "0        0           0      0         0        0            0        0   \n",
       "\n",
       "   acknowledg  across  actual  ...  year  yellow  yellowtail  yelper  yet  \\\n",
       "0           0       0       0  ...     0       0           0       0    0   \n",
       "\n",
       "   yucki  yukon  yum  yummi  zero  \n",
       "0      0      0    0      0     0  \n",
       "\n",
       "[1 rows x 1000 columns]"
      ]
     },
     "execution_count": 214,
     "metadata": {},
     "output_type": "execute_result"
    }
   ],
   "source": [
    "df.head()"
   ]
  },
  {
   "cell_type": "code",
   "execution_count": 215,
   "metadata": {},
   "outputs": [
    {
     "name": "stdout",
     "output_type": "stream",
     "text": [
      "<class 'pandas.core.frame.DataFrame'>\n",
      "Int64Index: 1 entries, 0 to 0\n",
      "Columns: 1000 entries, absolut to zero\n",
      "dtypes: int64(1000)\n",
      "memory usage: 7.9 KB\n"
     ]
    }
   ],
   "source": [
    "df.info()"
   ]
  },
  {
   "cell_type": "code",
   "execution_count": 216,
   "metadata": {},
   "outputs": [
    {
     "data": {
      "text/plain": [
       "absolut       0\n",
       "absolutley    0\n",
       "accid         0\n",
       "accommod      0\n",
       "accomod       0\n",
       "             ..\n",
       "yucki         0\n",
       "yukon         0\n",
       "yum           0\n",
       "yummi         0\n",
       "zero          0\n",
       "Name: 0, Length: 1000, dtype: int64"
      ]
     },
     "execution_count": 216,
     "metadata": {},
     "output_type": "execute_result"
    }
   ],
   "source": [
    "df.iloc[0,:]"
   ]
  },
  {
   "cell_type": "code",
   "execution_count": 217,
   "metadata": {},
   "outputs": [
    {
     "name": "stdout",
     "output_type": "stream",
     "text": [
      "1\n",
      "bad 66\n",
      "1\n",
      "experi 328\n",
      "1\n",
      "tast 844\n",
      "1\n",
      "worst 978\n"
     ]
    }
   ],
   "source": [
    "for value in range(len(df.columns)):\n",
    "    if df.loc[0,df.columns[value]]==1:\n",
    "        print(df.loc[0,df.columns[value]])\n",
    "        print(df.columns[value],value)\n",
    "    else:\n",
    "        pass"
   ]
  },
  {
   "cell_type": "code",
   "execution_count": 218,
   "metadata": {},
   "outputs": [],
   "source": [
    "my_temp=df.to_numpy()"
   ]
  },
  {
   "cell_type": "code",
   "execution_count": 219,
   "metadata": {},
   "outputs": [
    {
     "data": {
      "text/plain": [
       "array([0], dtype=int64)"
      ]
     },
     "execution_count": 219,
     "metadata": {},
     "output_type": "execute_result"
    }
   ],
   "source": [
    "t1=model1.predict(my_temp)\n",
    "t1"
   ]
  },
  {
   "cell_type": "code",
   "execution_count": 220,
   "metadata": {},
   "outputs": [
    {
     "data": {
      "text/plain": [
       "array([0], dtype=int64)"
      ]
     },
     "execution_count": 220,
     "metadata": {},
     "output_type": "execute_result"
    }
   ],
   "source": [
    "t2=model2.predict(my_temp)\n",
    "t2"
   ]
  },
  {
   "cell_type": "code",
   "execution_count": 221,
   "metadata": {},
   "outputs": [
    {
     "data": {
      "text/plain": [
       "array([0], dtype=int64)"
      ]
     },
     "execution_count": 221,
     "metadata": {},
     "output_type": "execute_result"
    }
   ],
   "source": [
    "t3=model3.predict(my_temp)\n",
    "t3"
   ]
  },
  {
   "cell_type": "code",
   "execution_count": 222,
   "metadata": {},
   "outputs": [
    {
     "data": {
      "text/plain": [
       "array([0], dtype=int64)"
      ]
     },
     "execution_count": 222,
     "metadata": {},
     "output_type": "execute_result"
    }
   ],
   "source": [
    "t4=model4.predict(my_temp)\n",
    "t4"
   ]
  },
  {
   "cell_type": "code",
   "execution_count": 223,
   "metadata": {},
   "outputs": [
    {
     "data": {
      "text/plain": [
       "array([0], dtype=int64)"
      ]
     },
     "execution_count": 223,
     "metadata": {},
     "output_type": "execute_result"
    }
   ],
   "source": [
    "t5=model5.predict(my_temp)\n",
    "t5"
   ]
  },
  {
   "cell_type": "code",
   "execution_count": null,
   "metadata": {},
   "outputs": [],
   "source": []
  },
  {
   "cell_type": "code",
   "execution_count": null,
   "metadata": {},
   "outputs": [],
   "source": []
  }
 ],
 "metadata": {
  "kernelspec": {
   "display_name": "Python 3",
   "language": "python",
   "name": "python3"
  },
  "language_info": {
   "codemirror_mode": {
    "name": "ipython",
    "version": 3
   },
   "file_extension": ".py",
   "mimetype": "text/x-python",
   "name": "python",
   "nbconvert_exporter": "python",
   "pygments_lexer": "ipython3",
   "version": "3.7.6"
  }
 },
 "nbformat": 4,
 "nbformat_minor": 2
}
